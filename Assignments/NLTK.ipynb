{
 "cells": [
  {
   "cell_type": "markdown",
   "id": "512b63d4-b046-4441-8793-8bf7c328626e",
   "metadata": {},
   "source": [
    "# Python String"
   ]
  },
  {
   "cell_type": "markdown",
   "id": "1bbdee9d-1a35-4d5c-9246-559ca332946b",
   "metadata": {},
   "source": [
    "Python string is a sequence of characters.\n",
    "Characters is just a symbol like , english language has 26 characters."
   ]
  },
  {
   "cell_type": "code",
   "execution_count": 22,
   "id": "5fc3d9a4-40f3-4e6a-968c-216d3133babd",
   "metadata": {},
   "outputs": [
    {
     "name": "stdout",
     "output_type": "stream",
     "text": [
      "Aman\n"
     ]
    }
   ],
   "source": [
    "# print the string\n",
    "a = \"Aman\"\n",
    "print(a)"
   ]
  },
  {
   "cell_type": "markdown",
   "id": "4b518158-ded1-411f-b2c2-5a9dd8647aa0",
   "metadata": {},
   "source": [
    "# Strings are arrays\n",
    "\n",
    "like in other popular programming languages, String are array of bytes represents unicode characters.\n",
    "However , python does't have the character as the datatype , single character is just simply with length with 1.\n",
    "we use sqare brackets to access elements from the string."
   ]
  },
  {
   "cell_type": "code",
   "execution_count": 23,
   "id": "0f3d0f47-787c-45c0-a590-744772628ae7",
   "metadata": {},
   "outputs": [
    {
     "name": "stdout",
     "output_type": "stream",
     "text": [
      "n\n"
     ]
    }
   ],
   "source": [
    "# get the character at position 3 (Here , indexing starts from 0)\n",
    "a = \"Aman\"\n",
    "print(a[3])"
   ]
  },
  {
   "cell_type": "code",
   "execution_count": 24,
   "id": "f3afecf9-3dc3-4a89-9af2-95ffbae94277",
   "metadata": {},
   "outputs": [
    {
     "name": "stdout",
     "output_type": "stream",
     "text": [
      "L\n"
     ]
    }
   ],
   "source": [
    "b = \"python Language\"\n",
    "print(b[7])"
   ]
  },
  {
   "cell_type": "markdown",
   "id": "9b8dbce9-145a-413d-a89f-8d8f3c3526b9",
   "metadata": {},
   "source": [
    "# Slicing in python"
   ]
  },
  {
   "cell_type": "markdown",
   "id": "09a8ded3-8751-4d31-9c73-5c12478ad0d2",
   "metadata": {},
   "source": [
    "You can get the output upto certain range of characters by using the slicing index.\n",
    "Specify the start index and end index , which is seprated by colon, to return a part of the string.\n"
   ]
  },
  {
   "cell_type": "code",
   "execution_count": 25,
   "id": "6f4f533f-9fd2-4297-b2b7-8e58616446b5",
   "metadata": {},
   "outputs": [
    {
     "name": "stdout",
     "output_type": "stream",
     "text": [
      "ta\n",
      "==========\n",
      "ienc\n",
      "t ce\n"
     ]
    }
   ],
   "source": [
    "# To get the output from the position 2 to 4 (not included)\n",
    "a = \"Data Science\"\n",
    "print(a[2:4])\n",
    "print(\"=\"*10)\n",
    "#To get the output by negative indexing from -5 position to -1 position.\n",
    "print(a[-5:-1])\n",
    "# Get the output from position 1 to 6 with the incement to 2.\n",
    "print(a[2:9:2])"
   ]
  },
  {
   "cell_type": "markdown",
   "id": "c3a5831e-7cdb-4996-866f-68b7b8b576b6",
   "metadata": {},
   "source": [
    "# String Method"
   ]
  },
  {
   "cell_type": "markdown",
   "id": "a392025f-e7f2-4876-ba29-98b68a4e9381",
   "metadata": {},
   "source": [
    "Python have set of built-in methods that you can use on string"
   ]
  },
  {
   "cell_type": "code",
   "execution_count": 26,
   "id": "a652c5a6-7260-458c-841b-d8e4b9dee746",
   "metadata": {},
   "outputs": [
    {
     "name": "stdout",
     "output_type": "stream",
     "text": [
      "Amankumar\n",
      "Amankumar  \n",
      "   Amankumar\n"
     ]
    }
   ],
   "source": [
    "# Strip() This method used to remove the whitespace in a string from begining to end.\n",
    "a = \"   Amankumar  \"\n",
    "print(a.strip())\n",
    "# lstrip() This method used to remove whitespace from left\n",
    "print(a.lstrip())\n",
    "# rstrip() This method used to remove whitespace from right\n",
    "print(a.rstrip())"
   ]
  },
  {
   "cell_type": "code",
   "execution_count": 27,
   "id": "e8b174e9-aedf-409f-be83-166aa984d980",
   "metadata": {},
   "outputs": [
    {
     "name": "stdout",
     "output_type": "stream",
     "text": [
      "programming\n",
      "PROGRAMMING\n"
     ]
    }
   ],
   "source": [
    "#Lower() this method used to conver the upper case word into lower case in the sentence.\n",
    "a = \"PROGRAMMING\"\n",
    "print(a.lower())\n",
    "#upper() this method used to conver the lower case word into upper case in the sentence.\n",
    "a = \"programming\"\n",
    "print(a.upper())"
   ]
  },
  {
   "cell_type": "code",
   "execution_count": 28,
   "id": "1a2153e1-c52b-4bb9-8e77-47cda1bf77a6",
   "metadata": {},
   "outputs": [
    {
     "name": "stdout",
     "output_type": "stream",
     "text": [
      "grogramming\n"
     ]
    }
   ],
   "source": [
    "# replace() will work line replace one string into another string.\n",
    "a = \"programming\"\n",
    "print(a.replace(\"p\", \"g\"))"
   ]
  },
  {
   "cell_type": "markdown",
   "id": "b7db6d19-89dc-4e44-a442-83f2383d485b",
   "metadata": {},
   "source": [
    "# String Concatenation"
   ]
  },
  {
   "cell_type": "code",
   "execution_count": 29,
   "id": "fa7e2156-fb6d-4906-92ed-4b8820f1246d",
   "metadata": {},
   "outputs": [
    {
     "name": "stdout",
     "output_type": "stream",
     "text": [
      "Aman kumar\n"
     ]
    }
   ],
   "source": [
    "#To concatenate or combine two string by using of + operator\n",
    "a = \"Aman\"\n",
    "b = \"kumar\"\n",
    "print(a +\" \"+b)"
   ]
  },
  {
   "cell_type": "markdown",
   "id": "bd5f9d02-e295-460e-a7bb-aaf6c0675af4",
   "metadata": {},
   "source": [
    "# import text "
   ]
  },
  {
   "cell_type": "markdown",
   "id": "58b035e4-4eb6-4958-8d94-b3f3b5069680",
   "metadata": {},
   "source": [
    "In NLP your dataset would be in .txt type of format , you need to import it and try to clean the irrelevant datas from the dataset . here we will going to understand python file handling create , open, read, write"
   ]
  },
  {
   "cell_type": "markdown",
   "id": "6cc7779c-9b17-4430-bb3b-21d3ae055270",
   "metadata": {},
   "source": [
    "# Create a text file"
   ]
  },
  {
   "cell_type": "markdown",
   "id": "984fd0af-0411-46f9-a6b5-e28d843753d2",
   "metadata": {},
   "source": [
    "with the use of python you can create the text files by using code we have demostrated here how you can do this "
   ]
  },
  {
   "cell_type": "code",
   "execution_count": 30,
   "id": "1ec41794-f0d3-428d-8b26-7571b547a443",
   "metadata": {},
   "outputs": [],
   "source": [
    "# Step1\n",
    "file = open(\"datatest.txt\", \"w+\")"
   ]
  },
  {
   "cell_type": "markdown",
   "id": "bde39bb8-e76e-497a-91ef-6b79a81d6e95",
   "metadata": {},
   "source": [
    "\n",
    "\n",
    "Here we declared file as a variable to open a file named iNeuron.txt. Open takes two arguemnets, first one is for the file we want to open and second one represents some kind of permissions or operation we want to do into that file.\n",
    "\n",
    "Here we taken \"w\" letter as an arguemnt, which indicates write and will create a file if it is not exist in the library.\n",
    "\n",
    "That \"+\" signs indicate both read and write.\n",
    "\n",
    "The other option beside \"w\" are, \"r\" for read, and \"a\" for append"
   ]
  },
  {
   "cell_type": "code",
   "execution_count": 31,
   "id": "c10c85d2-d2da-4201-a35a-8d569f1ab928",
   "metadata": {},
   "outputs": [],
   "source": [
    "#Step2\n",
    "for i in range(5):\n",
    "   file.write(\"Line number is %d\\r\\n\" % (i+1))\n",
    "\n"
   ]
  },
  {
   "cell_type": "markdown",
   "id": "4796c806-7123-43aa-addf-ba66fd1b2815",
   "metadata": {},
   "source": [
    "We have a loop that runs over a range of 5 numbers.\n",
    "\n",
    "Here using the Write function for entering data into the file.\n",
    "\n",
    "The Output we want to iterate in the file is \"Line number is\", which we already declared with write function and then percent d(display integers)"
   ]
  },
  {
   "cell_type": "code",
   "execution_count": 32,
   "id": "350aa5db-3eb7-420a-87db-555d3f25b954",
   "metadata": {},
   "outputs": [],
   "source": [
    "#step 3\n",
    "file.close()"
   ]
  },
  {
   "cell_type": "markdown",
   "id": "db28bb66-0b33-4e60-9288-1c0994752ba3",
   "metadata": {},
   "source": [
    "# Append data to a file \n",
    "YOU can also append a new text inside the existing file or in a new file"
   ]
  },
  {
   "cell_type": "code",
   "execution_count": 33,
   "id": "23009a4c-a9c5-4e66-aacf-74b4fe91b8f4",
   "metadata": {},
   "outputs": [],
   "source": [
    "#step 1\n",
    "file = open(\"datatest.txt\",\"a+\")"
   ]
  },
  {
   "cell_type": "code",
   "execution_count": 34,
   "id": "376474df-daba-4918-b621-067785fa3577",
   "metadata": {},
   "outputs": [],
   "source": [
    "# step 2\n",
    "for i in range (3):\n",
    "    file.write(\"Appending Line number %d\\r\\n\"%(i+1))"
   ]
  },
  {
   "cell_type": "code",
   "execution_count": 35,
   "id": "9864775a-648f-43f9-8c6d-a6b4c24f49b5",
   "metadata": {},
   "outputs": [],
   "source": [
    "#step 3\n",
    "file.close()"
   ]
  },
  {
   "cell_type": "markdown",
   "id": "7c9f84ac-5468-4fa4-9107-6252ed1fe7cf",
   "metadata": {},
   "source": [
    "# Read the files \n",
    "not only you create .txt in python but you can also call .txt file in a \"read mode\"(r)."
   ]
  },
  {
   "cell_type": "code",
   "execution_count": 36,
   "id": "d643b5cc-66c8-4df5-a5eb-67bf87e0ed30",
   "metadata": {},
   "outputs": [],
   "source": [
    "#Step1. Open the file in read mode\n",
    "file = open(\"datatest.txt\", \"r\")"
   ]
  },
  {
   "cell_type": "code",
   "execution_count": 37,
   "id": "9a69c1a1-6530-453d-8bcb-b8f64137c0d8",
   "metadata": {},
   "outputs": [],
   "source": [
    "#Step2. Here we'll check, is our file is open or not, if yes we proceed\n",
    "if file.mode == 'r': content = file.read() #We used file.read() for reading the file data and store it in a variable"
   ]
  },
  {
   "cell_type": "code",
   "execution_count": 38,
   "id": "0052e724-af7f-4f71-9ba4-0e31b42e2db2",
   "metadata": {},
   "outputs": [
    {
     "name": "stdout",
     "output_type": "stream",
     "text": [
      "Line number is 1\n",
      "\n",
      "Line number is 2\n",
      "\n",
      "Line number is 3\n",
      "\n",
      "Line number is 4\n",
      "\n",
      "Line number is 5\n",
      "\n",
      "Appending Line number 1\n",
      "\n",
      "Appending Line number 2\n",
      "\n",
      "Appending Line number 3\n",
      "\n",
      "\n",
      "Here is the output!\n"
     ]
    }
   ],
   "source": [
    "#Step3. Printing the file\n",
    "print(content)\n",
    "print(\"Here is the output!\")"
   ]
  },
  {
   "cell_type": "markdown",
   "id": "119ea680-c259-4504-b1b1-d62228b34ea8",
   "metadata": {},
   "source": [
    "# Text Preprocessing "
   ]
  },
  {
   "cell_type": "markdown",
   "id": "e6efbb9c-0e83-4fdb-84db-98faf6643df4",
   "metadata": {},
   "source": [
    "supose we have textual data available , we need to apply many of pre-processing steps to the data to transfer those words into numerical features that work with machine algoriths"
   ]
  },
  {
   "cell_type": "code",
   "execution_count": 39,
   "id": "32b99fb0-09a6-447b-bd01-4490c5c2e545",
   "metadata": {},
   "outputs": [],
   "source": [
    " # import libraries \n",
    "import nltk\n",
    "import string\n",
    "import re"
   ]
  },
  {
   "cell_type": "markdown",
   "id": "205389e3-cfc9-420f-9c68-576c192601ed",
   "metadata": {},
   "source": [
    "# Text lowercase\n",
    "we do lowercase the text to reduce the size of the vocabulary of our text data"
   ]
  },
  {
   "cell_type": "code",
   "execution_count": 40,
   "id": "630e1bbc-307a-43fb-93e8-a15bb7d8d57d",
   "metadata": {},
   "outputs": [
    {
     "data": {
      "text/plain": [
       "'weather is too cloudy . possiblity of rain is high, today !!'"
      ]
     },
     "execution_count": 40,
     "metadata": {},
     "output_type": "execute_result"
    }
   ],
   "source": [
    "def lowercase_text(text):\n",
    "    return text.lower()\n",
    "input_str = \"Weather is too cloudy . Possiblity of Rain is High, Today !!\"\n",
    "lowercase_text(input_str)"
   ]
  },
  {
   "cell_type": "markdown",
   "id": "f66ce0d2-7986-4b5e-9704-c4dd724f9999",
   "metadata": {},
   "source": [
    "# Remove number\n",
    "we should either remove the numbers or convert those numbers into textual representations. We use regular expression(re) to remove the numbers."
   ]
  },
  {
   "cell_type": "code",
   "execution_count": 41,
   "id": "61176fef-6eba-4b28-b9a1-69108fa9940c",
   "metadata": {},
   "outputs": [
    {
     "data": {
      "text/plain": [
       "'you bought  candies from shop , and  candies are in home.'"
      ]
     },
     "execution_count": 41,
     "metadata": {},
     "output_type": "execute_result"
    }
   ],
   "source": [
    "# For removing numbers\n",
    "def remove_num (text):\n",
    "    result= re.sub(r'\\d+', '', text)\n",
    "    return result\n",
    "input_s = \"you bought 6 candies from shop , and 4 candies are in home.\"\n",
    "remove_num(input_s)"
   ]
  },
  {
   "cell_type": "code",
   "execution_count": 42,
   "id": "50c64ad9-3c06-4b4c-bd9c-10df5beb7d8e",
   "metadata": {},
   "outputs": [
    {
     "name": "stdout",
     "output_type": "stream",
     "text": [
      "Requirement already satisfied: inflect in c:\\users\\hp\\anaconda3\\lib\\site-packages (7.4.0)\n",
      "Requirement already satisfied: more-itertools>=8.5.0 in c:\\users\\hp\\anaconda3\\lib\\site-packages (from inflect) (10.1.0)\n",
      "Requirement already satisfied: typeguard>=4.0.1 in c:\\users\\hp\\anaconda3\\lib\\site-packages (from inflect) (4.3.0)\n",
      "Requirement already satisfied: typing-extensions>=4.10.0 in c:\\users\\hp\\anaconda3\\lib\\site-packages (from typeguard>=4.0.1->inflect) (4.12.2)\n"
     ]
    }
   ],
   "source": [
    "! pip install inflect "
   ]
  },
  {
   "cell_type": "code",
   "execution_count": 43,
   "id": "7341c7d9-28ce-4000-a915-bd4febce8fc2",
   "metadata": {},
   "outputs": [
    {
     "data": {
      "text/plain": [
       "'You bought six candies from shop , and four candies are in home.'"
      ]
     },
     "execution_count": 43,
     "metadata": {},
     "output_type": "execute_result"
    }
   ],
   "source": [
    "# import the library\n",
    "import inflect\n",
    "q = inflect.engine()\n",
    "\n",
    "# convert number into text\n",
    "def convert_num (text):\n",
    "    # split string into list of texts\n",
    "    temp_string= text.split()\n",
    "    #initialise empty list\n",
    "    new_str =[]\n",
    "    for word in temp_string:\n",
    "        # if text is digit , convert the text\n",
    "        # to number and append into the new_str list\n",
    "        if word.isdigit():\n",
    "            temp= q.number_to_words(word)\n",
    "            new_str.append(temp)\n",
    "        #append the texts as it is \n",
    "        else:\n",
    "            new_str.append(word)\n",
    "    #join the text of new_str to from a string\n",
    "    temp_str =' '.join(new_str)\n",
    "    return temp_str\n",
    "input_str ='You bought 6 candies from shop , and 4 candies are in home.'\n",
    "convert_num(input_str)"
   ]
  },
  {
   "cell_type": "markdown",
   "id": "7de18c3b-55df-471b-83ce-ee770d3f9fad",
   "metadata": {},
   "source": [
    "# Remove Punctuation \n",
    "we remove puncuations because of that we don't have different from of the same word. if we don't  remove punctuations, then been. been, and been! will be treated seprately."
   ]
  },
  {
   "cell_type": "code",
   "execution_count": 44,
   "id": "9f26f551-009c-40fe-b161-a29906661243",
   "metadata": {},
   "outputs": [
    {
     "data": {
      "text/plain": [
       "'Hey  Are you excited   After a week  we will be in shimla '"
      ]
     },
     "execution_count": 44,
     "metadata": {},
     "output_type": "execute_result"
    }
   ],
   "source": [
    "# let's remove punctuation\n",
    "def rem_punct(text):\n",
    "    translator = str.maketrans('','',string.punctuation)\n",
    "    return text.translate(translator)\n",
    "input_str = \"Hey , Are you excited ?? , After a week , we will be in shimla !!!\"\n",
    "rem_punct(input_str)"
   ]
  },
  {
   "cell_type": "code",
   "execution_count": 45,
   "id": "364a1988-e4bf-4e2b-9b31-037a639f0b1c",
   "metadata": {},
   "outputs": [
    {
     "data": {
      "text/plain": [
       "'!\"#$%&\\'()*+,-./:;<=>?@[\\\\]^_`{|}~'"
      ]
     },
     "execution_count": 45,
     "metadata": {},
     "output_type": "execute_result"
    }
   ],
   "source": [
    "string.punctuation"
   ]
  },
  {
   "cell_type": "markdown",
   "id": "d8e91509-bb96-4a34-a190-b1d920c6ed56",
   "metadata": {},
   "source": [
    "# Remove default Stopwords:\n",
    "stopwords are words that do not the meaning of the sentence. Hence , they can be safely removed without causing any changes in the meaning of sentence. The NLTK (Natural language Toolkit) library has the set of stopwords and we can use these to remove stopwords from our text and return a list of word tokens."
   ]
  },
  {
   "cell_type": "code",
   "execution_count": 52,
   "id": "5f3a7835-2a74-4ccf-9ba2-856aaf32186a",
   "metadata": {},
   "outputs": [
    {
     "name": "stderr",
     "output_type": "stream",
     "text": [
      "[nltk_data] Downloading package stopwords to\n",
      "[nltk_data]     C:\\Users\\HP\\AppData\\Roaming\\nltk_data...\n",
      "[nltk_data]   Package stopwords is already up-to-date!\n",
      "[nltk_data] Downloading package punkt to\n",
      "[nltk_data]     C:\\Users\\HP\\AppData\\Roaming\\nltk_data...\n",
      "[nltk_data]   Package punkt is already up-to-date!\n"
     ]
    }
   ],
   "source": [
    "# import nltk library\n",
    "from nltk.corpus import stopwords\n",
    "from nltk.tokenize import word_tokenize\n",
    "\n",
    "nltk.download(\"stopwords\")\n",
    "nltk.download('punkt')\n",
    "\n",
    "import nltk\n",
    "\n",
    "\n",
    "#"
   ]
  },
  {
   "cell_type": "code",
   "execution_count": 54,
   "id": "b0bec6cb-bbc6-4ee4-af51-ad121f17d0fb",
   "metadata": {},
   "outputs": [
    {
     "data": {
      "text/plain": [
       "['Data', 'oil', 'Ai', 'last', 'invention']"
      ]
     },
     "execution_count": 54,
     "metadata": {},
     "output_type": "execute_result"
    }
   ],
   "source": [
    "# remove stopwords function \n",
    "def rem_stopwords(text):\n",
    "    stop_words = set(stopwords.words(\"english\"))\n",
    "    word_tokens = word_tokenize(text)\n",
    "    filtered_text = [word for word in word_tokens if word not in string.punctuation]\n",
    "    filtered_text = [word for word in filtered_text if word not in stop_words]\n",
    "    return filtered_text\n",
    "ex_text = \"Data is the oil. Ai is the last invention\"\n",
    "rem_stopwords(ex_text)\n",
    "    "
   ]
  },
  {
   "cell_type": "code",
   "execution_count": 55,
   "id": "f573c10d-ec97-4b16-bbf6-c1a5e434b717",
   "metadata": {},
   "outputs": [
    {
     "data": {
      "text/plain": [
       "['Data', 'new', 'oil', 'A.I', 'last', 'invention']"
      ]
     },
     "execution_count": 55,
     "metadata": {},
     "output_type": "execute_result"
    }
   ],
   "source": [
    "#remove stopwords function\n",
    "\n",
    "def rem_stopwords (text):\n",
    "\n",
    "    stop_words =set (stopwords.words(\"english\"))\n",
    "\n",
    "    word_tokens= word_tokenize(text)\n",
    "\n",
    "    filtered_text= [word for word in word_tokens if word not in string.punctuation]\n",
    "\n",
    "    filtered_text =[word for word in filtered_text if word not in stop_words]\n",
    "\n",
    "    return filtered_text\n",
    "\n",
    "ex_text= \"Data is the new oil. A.I is the last invention\"\n",
    "\n",
    "rem_stopwords(ex_text)\n",
    "\n",
    "\n"
   ]
  },
  {
   "cell_type": "code",
   "execution_count": 56,
   "id": "2d042768-3cac-4f79-901b-5917a09a69b5",
   "metadata": {},
   "outputs": [
    {
     "name": "stdout",
     "output_type": "stream",
     "text": [
      "['Data', 'new', 'oil', 'A.I', 'last', 'invention']\n"
     ]
    },
    {
     "name": "stderr",
     "output_type": "stream",
     "text": [
      "[nltk_data] Downloading package stopwords to\n",
      "[nltk_data]     C:\\Users\\HP\\AppData\\Roaming\\nltk_data...\n",
      "[nltk_data]   Package stopwords is already up-to-date!\n",
      "[nltk_data] Downloading package punkt to\n",
      "[nltk_data]     C:\\Users\\HP\\AppData\\Roaming\\nltk_data...\n",
      "[nltk_data]   Package punkt is already up-to-date!\n"
     ]
    }
   ],
   "source": [
    "import nltk\n",
    "from nltk.corpus import stopwords\n",
    "from nltk.tokenize import word_tokenize\n",
    "import string\n",
    "\n",
    "# Download necessary NLTK data\n",
    "nltk.download('stopwords')\n",
    "nltk.download('punkt')\n",
    "\n",
    "# Remove stopwords function\n",
    "def rem_stopwords(text):\n",
    "    stop_words = set(stopwords.words(\"english\"))\n",
    "    word_tokens = word_tokenize(text)\n",
    "    # Remove punctuation and stopwords\n",
    "    filtered_text = [word for word in word_tokens if word not in string.punctuation]\n",
    "    filtered_text = [word for word in filtered_text if word.lower() not in stop_words]\n",
    "    return filtered_text\n",
    "\n",
    "# Example usage\n",
    "ex_text = \"Data is the new oil. A.I is the last invention\"\n",
    "result = rem_stopwords(ex_text)\n",
    "print(result)\n"
   ]
  },
  {
   "cell_type": "markdown",
   "id": "a84e1c19-b2c9-41a1-a7b9-bb178bdc1fae",
   "metadata": {},
   "source": [
    "From Stemming we will process of getting the root form of a word. Root or Stem is the part to which inflexdional affixes(like ed, ire, etc) are added. We would create the stem words by removing the prefix of suffix of a word. So, stemming a word may not result in actual words.\n",
    "\n",
    "For Example: Mangoes-> Mango\n",
    "\n",
    "Boys\n",
    "\n",
    "Boy\n",
    "\n",
    "going go\n",
    "\n",
    "If our sentences are not in tokens, then we need to convert it into tokens. After we converted strings of text into tokens, then we can convert those word tokens into their mot form. These are the Porter stemmer, the snowball stemmeand the Lancaster Stemmer. We usually use Porter stertimer among them.\n",
    "\n"
   ]
  },
  {
   "cell_type": "code",
   "execution_count": null,
   "id": "0fc5115a-1268-458e-8993-2ff5013bfa12",
   "metadata": {},
   "outputs": [],
   "source": []
  },
  {
   "cell_type": "code",
   "execution_count": 57,
   "id": "50a782b8-21ab-478f-9a03-61a99ce1b8da",
   "metadata": {},
   "outputs": [
    {
     "name": "stdout",
     "output_type": "stream",
     "text": [
      "['the', 'cat', 'are', 'run', 'faster', 'than', 'the', 'dog']\n"
     ]
    }
   ],
   "source": [
    "#importing nltk's PorterStemmer\n",
    "from nltk.stem.porter import PorterStemmer \n",
    "from nltk.tokenize import word_tokenize \n",
    "\n",
    "# Create a PorterStemmer object\n",
    "stenl = PorterStemmer()\n",
    "\n",
    "# Function to stem words in the tokenized text\n",
    "def s_words(text):\n",
    "    word_tokens = word_tokenize(text)\n",
    "    stems = [stenl.stem(word) for word in word_tokens]\n",
    "    return stems\n",
    "\n",
    "# Example usage\n",
    "text = \"The cats are running faster than the dogs\"\n",
    "result = s_words(text)\n",
    "print(result)\n"
   ]
  },
  {
   "cell_type": "code",
   "execution_count": 58,
   "id": "fed629d9-8506-4190-adaf-ffbd754f026f",
   "metadata": {},
   "outputs": [
    {
     "name": "stdout",
     "output_type": "stream",
     "text": [
      "['data', 'is', 'the', 'new', 'revolut', 'in', 'the', 'world', ',', 'in', 'a', 'day', 'one', 'individu', 'would', 'gener', 'terabyt', 'of', 'data', '.']\n"
     ]
    }
   ],
   "source": [
    "# Importing nltk's PorterStemmer\n",
    "from nltk.stem.porter import PorterStemmer \n",
    "from nltk.tokenize import word_tokenize \n",
    "\n",
    "# Create a PorterStemmer object\n",
    "stenl = PorterStemmer()\n",
    "\n",
    "# Stem words in the list of tokenized words\n",
    "def s_words(text):\n",
    "    word_tokens = word_tokenize(text)\n",
    "    stems = [stenl.stem(word) for word in word_tokens]\n",
    "    return stems\n",
    "\n",
    "# Example text\n",
    "text = 'Data is the new revolution in the World, in a day one individual would generate terabytes of data.'\n",
    "\n",
    "# Apply stemming\n",
    "print(s_words(text))\n"
   ]
  },
  {
   "cell_type": "markdown",
   "id": "9399ca93-cd68-48e1-b7e6-53323caf013a",
   "metadata": {},
   "source": [
    " # Lemmatization\n",
    "As stemming, lemmatization do the same but the only difference is that lemmatization ensures that root word belongs to the language. Because of the use of lemmatization we will get the valid words. In NLTK(Natural language Toolkit), we use WordLemmatizer to get the lemmas of words. We also need to provide a context for the lemmatization. So, we added pos(parts-of-speech) as a parameter."
   ]
  },
  {
   "cell_type": "code",
   "execution_count": 59,
   "id": "3a1e5519-5be8-44ba-922d-32d162f3be63",
   "metadata": {},
   "outputs": [
    {
     "name": "stderr",
     "output_type": "stream",
     "text": [
      "[nltk_data] Downloading package wordnet to\n",
      "[nltk_data]     C:\\Users\\HP\\AppData\\Roaming\\nltk_data...\n",
      "[nltk_data]   Package wordnet is already up-to-date!\n"
     ]
    },
    {
     "name": "stdout",
     "output_type": "stream",
     "text": [
      "['Data', 'be', 'the', 'new', 'revolution', 'in', 'the', 'World', ',', 'in', 'a', 'day', 'one', 'individual', 'would', 'generate', 'terabytes', 'of', 'data', '.']\n"
     ]
    }
   ],
   "source": [
    "# Importing necessary modules\n",
    "from nltk.stem import WordNetLemmatizer\n",
    "from nltk.tokenize import word_tokenize\n",
    "import nltk\n",
    "\n",
    "# Downloading the 'wordnet' resource from NLTK\n",
    "nltk.download('wordnet')\n",
    "\n",
    "# Creating a WordNetLemmatizer object\n",
    "lemmatizer = WordNetLemmatizer()\n",
    "\n",
    "# Function to lemmatize a string\n",
    "def lemmatize_words(text):\n",
    "    # Tokenize the text\n",
    "    word_tokens = word_tokenize(text)\n",
    "    \n",
    "    # Lemmatize the tokens with part-of-speech (POS) as verb ('v')\n",
    "    lemmas = [lemmatizer.lemmatize(word, pos='v') for word in word_tokens]\n",
    "    \n",
    "    return lemmas\n",
    "\n",
    "# Example text\n",
    "text = \"Data is the new revolution in the World, in a day one individual would generate terabytes of data.\"\n",
    "\n",
    "# Apply lemmatization\n",
    "lemmatized_words = lemmatize_words(text)\n",
    "print(lemmatized_words)\n"
   ]
  },
  {
   "cell_type": "markdown",
   "id": "a815ee4c-bd49-4136-be2b-101ed60a695f",
   "metadata": {},
   "source": [
    "Correct imports: You should import WordNetLemmatizer from nltk.stem and word_tokenize from nltk.tokenize.\n",
    "\n",
    "Variable names: Changed lemma to lemmatizer, and word tokens to word_tokens.\n",
    "\n",
    "Function definition: The function name is updated to lemmatize_words.\n",
    "\n",
    "Fixed indentation: Python requires proper indentation for function blocks.\n",
    "\n",
    "POS parameter: Using 'v' (verb) as a context for lemmatization."
   ]
  },
  {
   "cell_type": "code",
   "execution_count": 60,
   "id": "dc230bd6-92a5-4a23-8b3c-297a014e5f4d",
   "metadata": {},
   "outputs": [
    {
     "name": "stdout",
     "output_type": "stream",
     "text": [
      "['Data', 'be', 'the', 'new', 'revolution', 'in', 'the', 'World', ',', 'in', 'a', 'day', 'one', 'individual', 'would', 'generate', 'terabytes', 'of', 'data', '.']\n"
     ]
    },
    {
     "name": "stderr",
     "output_type": "stream",
     "text": [
      "[nltk_data] Downloading package wordnet to\n",
      "[nltk_data]     C:\\Users\\HP\\AppData\\Roaming\\nltk_data...\n",
      "[nltk_data]   Package wordnet is already up-to-date!\n"
     ]
    }
   ],
   "source": [
    "# Importing necessary modules\n",
    "from nltk.stem import WordNetLemmatizer\n",
    "from nltk.tokenize import word_tokenize\n",
    "import nltk\n",
    "\n",
    "# Downloading the 'wordnet' resource from NLTK\n",
    "nltk.download('wordnet')\n",
    "\n",
    "# Creating a WordNetLemmatizer object\n",
    "lemmatizer = WordNetLemmatizer()\n",
    "\n",
    "# Function to lemmatize a string\n",
    "def lemmatize_words(text):\n",
    "    # Tokenize the text\n",
    "    word_tokens = word_tokenize(text)\n",
    "    \n",
    "    # Lemmatize the tokens with part-of-speech (POS) as verb ('v')\n",
    "    lemmas = [lemmatizer.lemmatize(word, pos='v') for word in word_tokens]\n",
    "    \n",
    "    return lemmas\n",
    "\n",
    "# Example text\n",
    "text = 'Data is the new revolution in the World, in a day one individual would generate terabytes of data.'\n",
    "\n",
    "# Apply lemmatization\n",
    "lemmatized_words = lemmatize_words(text)\n",
    "print(lemmatized_words)\n"
   ]
  },
  {
   "cell_type": "markdown",
   "id": "5992987f-e846-4352-8588-755ab588eb7c",
   "metadata": {},
   "source": [
    " ## Parts of Speech (POS) Tagging\n",
    "The pos(parts of speech) explain you how a word is used in a sentence. In the sentence, a word have different contexts and semantic meanings. The basic natural language processing (NLP) models like bag-of-words(bow) fails to identify these relation between the words. For that we use pos tagging to mark a word to its pos tag based on its context in the data. Pos is also used to extract rlationship between the words."
   ]
  },
  {
   "cell_type": "code",
   "execution_count": 61,
   "id": "a237495a-ab66-4da0-b19a-79b03dd48293",
   "metadata": {},
   "outputs": [
    {
     "name": "stderr",
     "output_type": "stream",
     "text": [
      "[nltk_data] Downloading package averaged_perceptron_tagger to\n",
      "[nltk_data]     C:\\Users\\HP\\AppData\\Roaming\\nltk_data...\n",
      "[nltk_data]   Package averaged_perceptron_tagger is already up-to-\n",
      "[nltk_data]       date!\n"
     ]
    },
    {
     "data": {
      "text/plain": [
       "[('Are', 'NNP'),\n",
       " ('you', 'PRP'),\n",
       " ('afraid', 'IN'),\n",
       " ('of', 'IN'),\n",
       " ('something', 'NN'),\n",
       " ('?', '.')]"
      ]
     },
     "execution_count": 61,
     "metadata": {},
     "output_type": "execute_result"
    }
   ],
   "source": [
    "#importing tokenize library\n",
    "from nltk.tokenize import word_tokenize\n",
    "from nltk import pos_tag\n",
    "nltk.download('averaged_perceptron_tagger')\n",
    "#convert text into word tokens with their tags\n",
    "def pos_tagg(text):\n",
    "    word_tokens =word_tokenize (text)\n",
    "    return pos_tag(word_tokens)\n",
    "pos_tagg('Are you afraid of something?')"
   ]
  },
  {
   "cell_type": "code",
   "execution_count": 62,
   "id": "c2e5455f-982c-4866-954e-49000c412d7e",
   "metadata": {},
   "outputs": [
    {
     "name": "stderr",
     "output_type": "stream",
     "text": [
      "[nltk_data] Downloading package averaged_perceptron_tagger to\n",
      "[nltk_data]     C:\\Users\\HP\\AppData\\Roaming\\nltk_data...\n",
      "[nltk_data]   Package averaged_perceptron_tagger is already up-to-\n",
      "[nltk_data]       date!\n"
     ]
    },
    {
     "data": {
      "text/plain": [
       "[('Are', 'NNP'),\n",
       " ('you', 'PRP'),\n",
       " ('afraid', 'IN'),\n",
       " ('of', 'IN'),\n",
       " ('something', 'NN'),\n",
       " ('?', '.')]"
      ]
     },
     "execution_count": 62,
     "metadata": {},
     "output_type": "execute_result"
    }
   ],
   "source": [
    "#importing tokenize library\n",
    "from nltk.tokenize import word_tokenize\n",
    "from nltk import pos_tag\n",
    "nltk.download('averaged_perceptron_tagger')\n",
    "#convert text into word tokens with their tags\n",
    "def pos_tagg(text):\n",
    "    word_tokens =word_tokenize (text)\n",
    "    return pos_tag (word_tokens)\n",
    "pos_tagg('Are you afraid of something?')"
   ]
  },
  {
   "cell_type": "code",
   "execution_count": 63,
   "id": "6fe02432-08b0-4726-a940-f08ed21514bc",
   "metadata": {},
   "outputs": [
    {
     "name": "stdout",
     "output_type": "stream",
     "text": [
      "PRP: pronoun, personal\n",
      "    hers herself him himself hisself it itself me myself one oneself ours\n",
      "    ourselves ownself self she thee theirs them themselves they thou thy us\n"
     ]
    },
    {
     "name": "stderr",
     "output_type": "stream",
     "text": [
      "[nltk_data] Downloading package tagsets to\n",
      "[nltk_data]     C:\\Users\\HP\\AppData\\Roaming\\nltk_data...\n",
      "[nltk_data]   Package tagsets is already up-to-date!\n"
     ]
    }
   ],
   "source": [
    "\n",
    "# downloading the tagset\n",
    "nltk.download('tagsets')\n",
    "#extract information about the tag I\n",
    "nltk.help.upenn_tagset('PRP')"
   ]
  },
  {
   "cell_type": "markdown",
   "id": "26c41201-5697-403a-8b73-32e5462ca8c1",
   "metadata": {},
   "source": [
    "# Chunking\n",
    "Chunking is the process of extracting phrases from the Unstructured text and give them more structure to it. We also called them shallow parsing.We can do it on top of pos tagging. It groups words into chunks mainly for noun phrases, chunking we do by using regular expression."
   ]
  },
  {
   "cell_type": "code",
   "execution_count": 64,
   "id": "b63cf0aa-b006-4085-9f64-27aa38f55f52",
   "metadata": {},
   "outputs": [
    {
     "name": "stdout",
     "output_type": "stream",
     "text": [
      "(S\n",
      "  the/DT\n",
      "  little/JJ\n",
      "  red/JJ\n",
      "  (NP parrot/NN)\n",
      "  is/VBZ\n",
      "  flying/VBG\n",
      "  in/IN\n",
      "  (NP the/DT sky/NN))\n",
      "(NP parrot/NN)\n",
      "(NP the/DT sky/NN)\n"
     ]
    }
   ],
   "source": [
    "#importing libraries\n",
    "from nltk.tokenize import word_tokenize\n",
    "from nltk import pos_tag\n",
    "#here we define chunking function with text and regular\n",
    "# def\n",
    "#expressions representing grammar as parameter\n",
    "\n",
    "def chunking(text, grammar):\n",
    "    word_tokens =word_tokenize (text)\n",
    "    #label words with pos\n",
    "    word_pos= pos_tag(word_tokens)\n",
    "    #create chunk parser using grammar \n",
    "    chunkParser = nltk.RegexpParser (grammar)\n",
    "    #test it on the list of word tokens with tagged pos\n",
    "    tree =chunkParser.parse(word_pos)\n",
    "    for subtree in tree.subtrees():\n",
    "        print(subtree)\n",
    "    #tree.draw()\n",
    "    \n",
    "sentence = 'the little red parrot is flying in the sky'\n",
    "grammar = \"NP: {<DT>?<J]>*<NN>}\"\n",
    "chunking (sentence, grammar)"
   ]
  },
  {
   "cell_type": "markdown",
   "id": "7a2f5ddb-342b-4ad4-908b-c3b9e7350f11",
   "metadata": {},
   "source": [
    " ## Named Entity Recognition\n",
    "It is used to extract information from unstructured text. It is used to classy the entities which is present in the text into categories like a person, organization, event, places, etc. This will give you a detail knowledge about the text and the relationship between the different entities."
   ]
  },
  {
   "cell_type": "code",
   "execution_count": null,
   "id": "e897ccdd-69ab-4fcb-8dcd-b678df81cb1d",
   "metadata": {},
   "outputs": [],
   "source": []
  },
  {
   "cell_type": "code",
   "execution_count": 65,
   "id": "112f1f48-2bfe-493e-975c-017267eba443",
   "metadata": {},
   "outputs": [
    {
     "name": "stderr",
     "output_type": "stream",
     "text": [
      "[nltk_data] Downloading package maxent_ne_chunker to\n",
      "[nltk_data]     C:\\Users\\HP\\AppData\\Roaming\\nltk_data...\n",
      "[nltk_data]   Package maxent_ne_chunker is already up-to-date!\n",
      "[nltk_data] Downloading package words to\n",
      "[nltk_data]     C:\\Users\\HP\\AppData\\Roaming\\nltk_data...\n",
      "[nltk_data]   Package words is already up-to-date!\n"
     ]
    },
    {
     "name": "stdout",
     "output_type": "stream",
     "text": [
      "(S\n",
      "  (GPE Brian/NNP)\n",
      "  (PERSON Lara/NNP)\n",
      "  scored/VBD\n",
      "  the/DT\n",
      "  highest/JJS\n",
      "  400/CD\n",
      "  runs/NNS\n",
      "  in/IN\n",
      "  a/DT\n",
      "  test/NN\n",
      "  match/NN\n",
      "  which/WDT\n",
      "  was/VBD\n",
      "  played/VBN\n",
      "  between/IN\n",
      "  (ORGANIZATION WI/NNP)\n",
      "  and/CC\n",
      "  (GPE England/NNP)\n",
      "  ./.)\n"
     ]
    }
   ],
   "source": [
    "# Importing necessary modules\n",
    "from nltk.tokenize import word_tokenize\n",
    "from nltk import pos_tag, ne_chunk\n",
    "import nltk\n",
    "\n",
    "# Downloading necessary NLTK resources\n",
    "nltk.download('maxent_ne_chunker')\n",
    "nltk.download('words')\n",
    "\n",
    "# Function for Named Entity Recognition (NER)\n",
    "def ner(text):\n",
    "    # Tokenize the text\n",
    "    word_tokens = word_tokenize(text)\n",
    "    \n",
    "    # POS tagging of words\n",
    "    word_pos = pos_tag(word_tokens)\n",
    "    \n",
    "    # Tree of word entities\n",
    "    ner_tree = ne_chunk(word_pos)\n",
    "    \n",
    "    # Print the Named Entity chunk tree\n",
    "    print(ner_tree)\n",
    "\n",
    "# Example text\n",
    "text = 'Brian Lara scored the highest 400 runs in a test match which was played between WI and England.'\n",
    "\n",
    "# Call the function\n",
    "ner(text)\n"
   ]
  },
  {
   "cell_type": "markdown",
   "id": "b5986529-f7ae-4dd9-94df-d2ed4cd58818",
   "metadata": {},
   "source": [
    "# Understanding Regex\n",
    "As you're a software developer, you have probably encountered regular expressions many times and got consufed many times with these daunting set of characters grouped together like this:\n",
    "\n",
    "/^\\w+([-]?\\w)+@\\w+([\\.]?\\w)+(\\.[a-zA-Z]{2,3})+$/\n",
    "And you may wondered what this is all about?\n",
    "\n",
    "Regular Expressions (Regx or RegExp) are too useful in stepping up your algorithm game and this will make you a better problem solver. The structure of Regx can be intimidating at first, but it is very rewarding once you got all the patterns and implement them in your work properly.\n",
    "## What is RegEx and why is it important?\n",
    "A Regex or we called it as regular expression, it is a type of object will help you out to extract information from any string data by searching through text and find it out what you need. Whether it's punctuation, numbers, letters, or even white spaces, RegEx will allow you to check and match any of the character combination in strings.\n",
    "\n",
    "For example, suppose you need to match the format of a email addresses or security numbers. You can utilize RegEx to check the pattern inside the text strings and use it to replace another substring.\n",
    "\n",
    "For instance, a RegEx could tell the program to search for the specific text from the string and then to print out the output accordingly. Expressions can include Text matching, Repetition of words, Branching,pattern-composition.\n",
    "Python supports RegEx through libraries. In RegEx supports for various things like Identifiers, Modifiers, and White Space."
   ]
  },
  {
   "cell_type": "markdown",
   "id": "d58bdb07-2bd2-436b-af2b-313162052ce9",
   "metadata": {},
   "source": [
    "## RegEx Syntax\r\n",
    "import r\n",
    "e\r\n",
    "re library in Python is used for string searching and manipulatio\n",
    "\n",
    "\n",
    "\n",
    "\n",
    "n.\r\n",
    "We also used it frequently for web scrapi\n",
    "\n",
    "\n",
    "\n",
    "ng.\r\n",
    "Example for w+ an   d ^ Expres\n",
    "\n",
    "\n",
    "\n",
    "sion\r\n",
    "Here in this expression matches the start of a string.\r\n",
    "w+: This expression matches for the alphanumeric characters from inside the string.\r\n",
    "Here, we will give one example of how you can use \"w+\" and \"^\" expressions in code. re.findall will cover in next parts,so just focus on the \"w+\" and \"\" expression.\r\n",
    "Let's have an example \"iNeuron13, Data is a new fuel\", if we execute the code we will get \"iNeuron13\" as a result."
   ]
  },
  {
   "cell_type": "code",
   "execution_count": 66,
   "id": "4d3a8522-9b49-4416-b1b7-20ed9bf57b29",
   "metadata": {},
   "outputs": [
    {
     "name": "stdout",
     "output_type": "stream",
     "text": [
      "['dataset']\n"
     ]
    }
   ],
   "source": [
    "import re\n",
    "sent =\"dataset, Data is a new fuel\"\n",
    "r2=re.findall(r\"^\\w+\", sent)\n",
    "print(r2)"
   ]
  },
  {
   "cell_type": "markdown",
   "id": "5599065a-c1aa-4f10-a5c7-7e9b597be53f",
   "metadata": {},
   "source": [
    "Example of is expression in re.split function\n",
    "\n",
    " \"s:\" This expression we use for creating a space in the string.\n",
    "\n",
    " \n",
    "To understand better this expression we will use the split function in a simple example. In this example, we have to split each words using the \"re.split\" function and at the same time we have used is that allows to parse each word in the string seperately."
   ]
  },
  {
   "cell_type": "code",
   "execution_count": 67,
   "id": "e783edcd-0842-4166-af62-1b2ceca2441c",
   "metadata": {},
   "outputs": [
    {
     "name": "stdout",
     "output_type": "stream",
     "text": [
      "['We', 'splited', 'this', 'sentence']\n"
     ]
    }
   ],
   "source": [
    "import re\n",
    "print((re.split(r'\\s', 'We splited this sentence')))"
   ]
  },
  {
   "cell_type": "markdown",
   "id": "7c82c103-b59d-4a12-a49e-f708a2ac55c0",
   "metadata": {},
   "source": [
    "As we can see above we got the output ['We', 'splited', 'this', 'sentence') but what if we remove '\\' from 's', it will give result like remove 's' from the entire sentences. Let's see in below example."
   ]
  },
  {
   "cell_type": "code",
   "execution_count": 68,
   "id": "020bca6b-e8af-4954-a034-01662d4a1a40",
   "metadata": {},
   "outputs": [
    {
     "name": "stdout",
     "output_type": "stream",
     "text": [
      "['We ', 'plited thi', ' ', 'entence']\n"
     ]
    }
   ],
   "source": [
    "import re\n",
    "print((re.split(r's', 'We splited this sentence')))"
   ]
  },
  {
   "cell_type": "markdown",
   "id": "d931e7c3-e6b2-4ba4-8a5d-d8e630305cf1",
   "metadata": {},
   "source": [
    "Similarly, there are series of regular expression in Python that you can use in various ways like \\d,\\D,$..,\\b, etc."
   ]
  },
  {
   "cell_type": "markdown",
   "id": "d7082959-3371-40a9-818d-b5d1d80270c0",
   "metadata": {},
   "source": [
    " # Use RegEx methods\n",
    "The \"re\" packages provide several methods to actually perform queries on an input string. We will see different methods which are\n",
    "\n",
    "re.match()\n",
    "re.search()\n",
    "re.findall()\n",
    "\n",
    "Note: Based on the RegEx, Python offers two different primitive operations. This match method checks for the match only at the begining of the string while search checks for a match anywhere in the string.\n",
    " ## Using re.match()\n",
    "The match function is used to match the RegEx pattern to string with optional flag. Here, in this \"w+\" and \"W\" will match the words starting from \"i\" and thereafter anything which is not started with \"i\" is not identified. For checking match for each element in the list or string, we run the for loop."
   ]
  },
  {
   "cell_type": "code",
   "execution_count": 69,
   "id": "c0d48c90-eadc-44bb-a1de-511fc4a77b1a",
   "metadata": {},
   "outputs": [
    {
     "name": "stdout",
     "output_type": "stream",
     "text": [
      "('icecream', 'images')\n"
     ]
    },
    {
     "name": "stderr",
     "output_type": "stream",
     "text": [
      "<>:4: SyntaxWarning: invalid escape sequence '\\w'\n",
      "<>:4: SyntaxWarning: invalid escape sequence '\\w'\n",
      "C:\\Users\\HP\\AppData\\Local\\Temp\\ipykernel_13252\\2464808011.py:4: SyntaxWarning: invalid escape sequence '\\w'\n",
      "  q = re.match(\"(i\\w+)\\W(i\\w+)\", i)\n"
     ]
    }
   ],
   "source": [
    "import re\n",
    "lists = ['icecream images', 'i immitated', 'inner peace']\n",
    "for i in lists:\n",
    "    q = re.match(\"(i\\w+)\\W(i\\w+)\", i)\n",
    "    if q:\n",
    "        print((q.groups()))\n"
   ]
  },
  {
   "cell_type": "markdown",
   "id": "d75f8433-38b3-46e3-b266-9a1688d80163",
   "metadata": {},
   "source": [
    "# Finding Pattern in the text(re.search())\n",
    "A RegEx is commonly used to search for a pattern in the text. This method takes a RegEx pattern and a string and searches that pattern with the string.\n",
    "\n",
    "For using re.search() function, you need to import re first. The search() function takes the \"pattern\" and \"text\" to scan from our given string and returns the match object when the pattern found or else not match."
   ]
  },
  {
   "cell_type": "code",
   "execution_count": 70,
   "id": "1fb9e6a3-9365-47b2-921a-1bed8412e378",
   "metadata": {},
   "outputs": [
    {
     "name": "stdout",
     "output_type": "stream",
     "text": [
      "You're looking for 'playing' in 'Raju is playing outside.' Found match!\n",
      "You're looking for 'dataset' in 'Raju is playing outside.' no match found!\n"
     ]
    }
   ],
   "source": [
    "import re\n",
    "pattern= [\"playing\", \"dataset\"] \n",
    "text =\"Raju is playing outside.\"\n",
    "for p in pattern:\n",
    "    print(\"You're looking for '%s' in '%s'\" %(p, text), end=' ')\n",
    "    if re.search(p, text):\n",
    "        print('Found match!')\n",
    "    else:\n",
    "        print(\"no match found!\")"
   ]
  },
  {
   "cell_type": "markdown",
   "id": "605d4326-90d4-4715-a3bf-3101e84c4cf3",
   "metadata": {},
   "source": [
    " # Using re.findall() for text\n",
    "We use re.findall() module is when you what to iterate over the lines of the file, it'll do like list all the matches in one go. Here in a example, we would like to fetch email address from the list and we want to fetch all emails from the list, we use re.findall() method."
   ]
  },
  {
   "cell_type": "code",
   "execution_count": 71,
   "id": "900d647a-94e6-4426-af97-bc209b98494e",
   "metadata": {},
   "outputs": [
    {
     "name": "stdout",
     "output_type": "stream",
     "text": [
      "Abc@gmail.com\n",
      "XYX@gmail.com\n",
      "Lmn@gmail.com\n",
      "efg@gmail.com\n"
     ]
    }
   ],
   "source": [
    "import re\n",
    "kgf= \"Abc@gmail.com, XYX@gmail.com, Lmn@gmail.com, efg@gmail.com\"\n",
    "emails= re.findall(r'[\\w\\.]+@[\\w\\.]+', kgf)\n",
    "for e in emails:\n",
    "    print(e)"
   ]
  },
  {
   "cell_type": "markdown",
   "id": "efe8a9ef-89e0-4f9e-9837-2908ecd1c7fa",
   "metadata": {},
   "source": [
    "# Text normalization\n",
    "In the tect pre-processing highly overlooked step is text normalization. The text normalization means the process of transforming the text into the canonical(or standard) form. Like, \"ok\" and \"k\" can be transformed to \"okay\", its canonical form. And another example is mapping of near identical words such as \"preprocessing\", \"pre-processing\" and \"pre processing\" to just \"preprocessing\".\n",
    "\n",
    "\n",
    "Text normaliztion is too useful for noisy textssuch as social media comments, comment to blog posts, text messages, where abbreviations, misspellings, and the use out-of-vocabulary(oov) are prevalent"
   ]
  },
  {
   "cell_type": "markdown",
   "id": "2fa01678-2639-4092-91bc-35dc4f6b3ab6",
   "metadata": {},
   "source": [
    " # Effects of normalization\n",
    "Text normalization has even been effective for analyzing highly unstructured clinical texts where physicians take notes in non-standard ways. We have also found it useful for topic extraction where near synonyms and spelling differences are common (like 'topic modelling', 'topic modeling', 'topic-modeling', 'topic- modelling').\n",
    "Unlike stemming and lemmatization, there is not a standard way to normalize texts. It typically depends on the task. For e.g, the way you would normalize clinical texts would arguably be different from how you normalize text messages.\n",
    "Some of the common approaches to text normalization include dictionary mappings, statistical machine translation (SMT) and spelling-correction based approaches."
   ]
  },
  {
   "cell_type": "markdown",
   "id": "c2fce3bc-b7fe-4732-a71d-b1ad68911f6b",
   "metadata": {},
   "source": [
    "# TOKENIZERS\n",
    "## NLTK"
   ]
  },
  {
   "cell_type": "code",
   "execution_count": 18,
   "id": "31dfc1da-0a55-42e4-8acb-95401bcbc1af",
   "metadata": {},
   "outputs": [
    {
     "name": "stdout",
     "output_type": "stream",
     "text": [
      "Requirement already satisfied: nltk in c:\\users\\hp\\anaconda3\\lib\\site-packages (3.8.1)\n",
      "Collecting nltk\n",
      "  Downloading nltk-3.9.1-py3-none-any.whl.metadata (2.9 kB)\n",
      "Requirement already satisfied: click in c:\\users\\hp\\anaconda3\\lib\\site-packages (from nltk) (8.1.7)\n",
      "Requirement already satisfied: joblib in c:\\users\\hp\\anaconda3\\lib\\site-packages (from nltk) (1.4.2)\n",
      "Requirement already satisfied: regex>=2021.8.3 in c:\\users\\hp\\anaconda3\\lib\\site-packages (from nltk) (2023.10.3)\n",
      "Requirement already satisfied: tqdm in c:\\users\\hp\\anaconda3\\lib\\site-packages (from nltk) (4.66.5)\n",
      "Requirement already satisfied: colorama in c:\\users\\hp\\anaconda3\\lib\\site-packages (from click->nltk) (0.4.6)\n",
      "Downloading nltk-3.9.1-py3-none-any.whl (1.5 MB)\n",
      "   ---------------------------------------- 0.0/1.5 MB ? eta -:--:--\n",
      "   ---------------------------------------- 0.0/1.5 MB ? eta -:--:--\n",
      "    --------------------------------------- 0.0/1.5 MB 640.0 kB/s eta 0:00:03\n",
      "   - -------------------------------------- 0.1/1.5 MB 787.7 kB/s eta 0:00:02\n",
      "   ---- ----------------------------------- 0.2/1.5 MB 1.2 MB/s eta 0:00:02\n",
      "   ------- -------------------------------- 0.3/1.5 MB 1.6 MB/s eta 0:00:01\n",
      "   -------------- ------------------------- 0.6/1.5 MB 2.5 MB/s eta 0:00:01\n",
      "   ---------------------- ----------------- 0.8/1.5 MB 3.2 MB/s eta 0:00:01\n",
      "   ------------------------------ --------- 1.1/1.5 MB 3.8 MB/s eta 0:00:01\n",
      "   ---------------------------------- ----- 1.3/1.5 MB 3.8 MB/s eta 0:00:01\n",
      "   -------------------------------------- - 1.5/1.5 MB 3.9 MB/s eta 0:00:01\n",
      "   ---------------------------------------- 1.5/1.5 MB 3.8 MB/s eta 0:00:00\n",
      "Installing collected packages: nltk\n",
      "Successfully installed nltk-3.9.1\n"
     ]
    },
    {
     "name": "stderr",
     "output_type": "stream",
     "text": [
      "  WARNING: The script nltk.exe is installed in 'C:\\Users\\HP\\AppData\\Roaming\\Python\\Python312\\Scripts' which is not on PATH.\n",
      "  Consider adding this directory to PATH or, if you prefer to suppress this warning, use --no-warn-script-location.\n"
     ]
    }
   ],
   "source": [
    "!pip install --user -U nltk"
   ]
  },
  {
   "cell_type": "code",
   "execution_count": 19,
   "id": "5c64276b-ad00-462f-b609-790a0f1a9cba",
   "metadata": {},
   "outputs": [],
   "source": [
    "from nltk.tokenize.regexp import WhitespaceTokenizer\n",
    "m= \"It is a process of converting a sentence to forms – list of words, list of tuples (where each tuple is having a form word, tag. \"\n"
   ]
  },
  {
   "cell_type": "code",
   "execution_count": 20,
   "id": "28a034a8-0acb-4891-9561-4d460e100e3c",
   "metadata": {},
   "outputs": [
    {
     "data": {
      "text/plain": [
       "['A',\n",
       " 'corpus',\n",
       " 'can',\n",
       " 'be',\n",
       " 'defined',\n",
       " 'as',\n",
       " 'a',\n",
       " 'collection',\n",
       " 'of',\n",
       " 'text',\n",
       " 'documents',\n",
       " '.',\n",
       " 'It',\n",
       " 'can',\n",
       " 'be',\n",
       " 'thought',\n",
       " 'as',\n",
       " 'just',\n",
       " 'a',\n",
       " 'bunch',\n",
       " 'of',\n",
       " 'text',\n",
       " 'files',\n",
       " 'in',\n",
       " 'a',\n",
       " 'directory',\n",
       " ',',\n",
       " 'often',\n",
       " 'alongside',\n",
       " 'many',\n",
       " 'other',\n",
       " 'directories',\n",
       " 'of',\n",
       " 'text',\n",
       " 'files',\n",
       " '.']"
      ]
     },
     "execution_count": 20,
     "metadata": {},
     "output_type": "execute_result"
    }
   ],
   "source": [
    "from nltk.tokenize import word_tokenize\n",
    "text = \"\"\"A corpus can be defined as a collection of text documents. It can be thought as just a bunch of text files in a directory, often alongside many other directories of text files.\"\"\"\n",
    "word_tokenize(text)"
   ]
  },
  {
   "cell_type": "code",
   "execution_count": 21,
   "id": "c5c248cd-cfcd-421e-a774-7a82173081b8",
   "metadata": {},
   "outputs": [
    {
     "name": "stdout",
     "output_type": "stream",
     "text": [
      "26\n"
     ]
    }
   ],
   "source": [
    "tokens=WhitespaceTokenizer().tokenize(m)\n",
    "print(len(tokens))"
   ]
  },
  {
   "cell_type": "code",
   "execution_count": 22,
   "id": "c6851cdd-5e28-4530-9cdf-d1cd013538cd",
   "metadata": {},
   "outputs": [
    {
     "data": {
      "text/plain": [
       "['It',\n",
       " 'is',\n",
       " 'a',\n",
       " 'process',\n",
       " 'of',\n",
       " 'converting',\n",
       " 'a',\n",
       " 'sentence',\n",
       " 'to',\n",
       " 'forms',\n",
       " '–',\n",
       " 'list',\n",
       " 'of',\n",
       " 'words,',\n",
       " 'list',\n",
       " 'of',\n",
       " 'tuples',\n",
       " '(where',\n",
       " 'each',\n",
       " 'tuple',\n",
       " 'is',\n",
       " 'having',\n",
       " 'a',\n",
       " 'form',\n",
       " 'word,',\n",
       " 'tag.']"
      ]
     },
     "execution_count": 22,
     "metadata": {},
     "output_type": "execute_result"
    }
   ],
   "source": [
    "tokens"
   ]
  },
  {
   "cell_type": "markdown",
   "id": "6007dd2a-4630-467c-898f-2bf27089de4a",
   "metadata": {},
   "source": [
    " # Frequency distribution\n",
    "  What is Frequency distribution? This is basically counting words in your texts. To give a brief example of how it works,"
   ]
  },
  {
   "cell_type": "code",
   "execution_count": 7,
   "id": "f8fdf035-cd32-4d62-a99c-1afef78c4131",
   "metadata": {},
   "outputs": [
    {
     "name": "stdout",
     "output_type": "stream",
     "text": [
      "\n",
      "\n",
      "\n",
      "\n",
      "<FreqDist with 19 samples and 22 outcomes>\n"
     ]
    }
   ],
   "source": [
    "#from nltk.book import\n",
    "import nltk\n",
    "#nltk.download('gutenberg')\n",
    "print(\"\\n\\n\\n\")\n",
    "text1= \"'There is no need to panic. We need to work together, take small yet important measures to ensure self-pro'\"\n",
    "freqDist = nltk. FreqDist(word_tokenize(text1))\n",
    "print(freqDist)"
   ]
  },
  {
   "cell_type": "code",
   "execution_count": 8,
   "id": "50ddcba1-78d6-469a-999a-8a0b01ff7798",
   "metadata": {},
   "outputs": [
    {
     "name": "stdout",
     "output_type": "stream",
     "text": [
      "1\n"
     ]
    }
   ],
   "source": [
    "print(freqDist[\"is\"])"
   ]
  },
  {
   "cell_type": "code",
   "execution_count": 12,
   "id": "f8ac6fa7-a33c-4e9d-9a7e-f9a441d9640c",
   "metadata": {},
   "outputs": [
    {
     "name": "stdout",
     "output_type": "stream",
     "text": [
      "0\n"
     ]
    }
   ],
   "source": [
    "print(freqDist[\"person\"])"
   ]
  },
  {
   "cell_type": "code",
   "execution_count": 13,
   "id": "e4cb4316-6444-490a-949a-c1be81baf56b",
   "metadata": {},
   "outputs": [
    {
     "name": "stdout",
     "output_type": "stream",
     "text": [
      "19\n"
     ]
    }
   ],
   "source": [
    "print(len(words))"
   ]
  },
  {
   "cell_type": "code",
   "execution_count": 14,
   "id": "52283a66-f522-4045-bf4a-18ceb76147b8",
   "metadata": {},
   "outputs": [
    {
     "name": "stdout",
     "output_type": "stream",
     "text": [
      "<class 'dict_keys'>\n"
     ]
    }
   ],
   "source": [
    "words = freqDist.keys()\n",
    "print(type(words))"
   ]
  },
  {
   "cell_type": "code",
   "execution_count": null,
   "id": "c047b5e5-5cdb-47e9-b7e1-62bf50bc85d3",
   "metadata": {},
   "outputs": [],
   "source": []
  },
  {
   "cell_type": "code",
   "execution_count": null,
   "id": "2a925aa2-5db6-42c4-96ef-38d5147d35a3",
   "metadata": {},
   "outputs": [],
   "source": []
  },
  {
   "cell_type": "code",
   "execution_count": 16,
   "id": "0bdf8e53-beb7-4f53-b0bc-a468f456b801",
   "metadata": {},
   "outputs": [
    {
     "data": {
      "image/png": "[encoded data removed]",
      "text/plain": [
       "<Figure size 640x480 with 1 Axes>"
      ]
     },
     "metadata": {},
     "output_type": "display_data"
    },
    {
     "data": {
      "text/plain": [
       "<Axes: xlabel='Samples', ylabel='Counts'>"
      ]
     },
     "execution_count": 16,
     "metadata": {},
     "output_type": "execute_result"
    }
   ],
   "source": [
    "import nltk\n",
    "from nltk import FreqDist\n",
    "from nltk.tokenize import word_tokenize\n",
    "\n",
    "# Example text\n",
    "text = \"This WordNetTagger class will count the no. of each POS tag found in the Synsets for the most common tag is to treebank tag using internal mapping.\"\n",
    "\n",
    "# Tokenizing the text\n",
    "word_tokens = word_tokenize(text)\n",
    "\n",
    "# Creating a frequency distribution\n",
    "freqDist = FreqDist(word_tokens)\n",
    "\n",
    "# Plotting the top 15 words\n",
    "freqDist.plot(15)\n"
   ]
  },
  {
   "cell_type": "code",
   "execution_count": null,
   "id": "b33bd057-6bb4-4ea8-87c5-1f7bab4458ad",
   "metadata": {},
   "outputs": [],
   "source": []
  },
  {
   "cell_type": "code",
   "execution_count": null,
   "id": "7165e435-b235-49b5-97cd-bde3c87fdf1d",
   "metadata": {},
   "outputs": [],
   "source": []
  },
  {
   "cell_type": "code",
   "execution_count": null,
   "id": "81da5137-d2ef-4d8b-a2d3-e3defd0bcad6",
   "metadata": {},
   "outputs": [],
   "source": []
  },
  {
   "cell_type": "code",
   "execution_count": null,
   "id": "65f4a9b7-3860-4bd4-8a02-62f32ef51274",
   "metadata": {},
   "outputs": [],
   "source": []
  }
 ],
 "metadata": {
  "kernelspec": {
   "display_name": "Python 3 (ipykernel)",
   "language": "python",
   "name": "python3"
  },
  "language_info": {
   "codemirror_mode": {
    "name": "ipython",
    "version": 3
   },
   "file_extension": ".py",
   "mimetype": "text/x-python",
   "name": "python",
   "nbconvert_exporter": "python",
   "pygments_lexer": "ipython3",
   "version": "3.12.4"
  }
 },
 "nbformat": 4,
 "nbformat_minor": 5
}
